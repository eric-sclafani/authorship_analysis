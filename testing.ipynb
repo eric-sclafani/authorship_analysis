{
 "cells": [
  {
   "cell_type": "code",
   "execution_count": 1,
   "id": "fc2d5033-d97a-41d3-9dfa-3af95498e4eb",
   "metadata": {},
   "outputs": [],
   "source": [
    "from wordcloud import WordCloud, ImageColorGenerator\n",
    "import plotly.graph_objects as go\n",
    "from sklearn.cluster import KMeans\n",
    "import pandas as pd\n",
    "import numpy as np\n",
    "import spacy\n",
    "import matplotlib.pyplot as plt\n",
    "import random\n",
    "import plotly.express as px\n",
    "import warnings\n",
    "from collections import Counter\n",
    "from sklearn.feature_extraction.text import TfidfVectorizer\n",
    "warnings.filterwarnings(\"ignore\")\n",
    "\n",
    "\n",
    "random.seed(42)\n",
    "\n",
    "\n"
   ]
  },
  {
   "attachments": {},
   "cell_type": "markdown",
   "id": "63aebb0b",
   "metadata": {},
   "source": [
    "The following cell contains code for creating the author vector csv"
   ]
  },
  {
   "cell_type": "code",
   "execution_count": 2,
   "id": "0f6a81a6",
   "metadata": {},
   "outputs": [],
   "source": [
    "doc_df = pd.read_csv(\"data/features/document_vectors.csv\")\n",
    "doc_values = doc_df.loc[:, ~doc_df.columns.isin(['doc_id', 'author_id'])]\n",
    "author_ids = set(doc_df[\"author_id\"])\n",
    "\n",
    "def make_author_vector(doc_vectors:np.ndarray) -> np.ndarray:\n",
    "    return np.mean(doc_vectors, axis=0)\n",
    "\n",
    "def make_author_vector_df(doc_df:pd.DataFrame, author_ids) -> pd.DataFrame:\n",
    "    \"\"\"Creates author vectors by averaging each author's documents into one\"\"\"\n",
    "    df_copy = doc_df.copy(deep=True).drop(columns=\"author_id\").drop(columns=\"doc_id\")\n",
    "    \n",
    "    author_ids_to_avs = {}\n",
    "    for author_id in author_ids:\n",
    "        doc_vectors = df_copy.loc[doc_df['author_id'] == author_id].values\n",
    "        author_ids_to_avs[author_id] = make_author_vector(doc_vectors)\n",
    "        \n",
    "    av_df = pd.DataFrame(author_ids_to_avs).T\n",
    "    av_df.columns = df_copy.columns\n",
    "\n",
    "    \n",
    "    return av_df\n",
    "\n",
    "    \n"
   ]
  },
  {
   "cell_type": "code",
   "execution_count": 3,
   "id": "ef25d779",
   "metadata": {},
   "outputs": [
    {
     "data": {
      "text/plain": [
       "POS Bigram: ('VERB', 'PRON')      2.518766\n",
       "POS Bigram: ('PROPN', 'PUNCT')    2.440638\n",
       "Function word: me                 3.239219\n",
       "Function word: yourself           4.178343\n",
       "Function word: these              3.296460\n",
       "Function word: doing              2.906452\n",
       "Function word: further            2.884852\n",
       "Function word: all                3.656222\n",
       "Function word: too                2.034635\n",
       "Function word: won                4.928485\n",
       "Letter: G                         3.353575\n",
       "Letter: K                         3.649688\n",
       "Letter: R                         4.330837\n",
       "Emoji: ❤️                         2.443363\n",
       "Dependency label: dative          2.546225\n",
       "Mixed Bigram: ('.', 'INTJ')       2.345270\n",
       "Mixed Bigram: ('ADJ', 'to')       2.633592\n",
       "Mixed Bigram: ('VERB', 'you')     2.684187\n",
       "Morphology tag: Acc               2.701221\n",
       "Name: 1, dtype: float64"
      ]
     },
     "execution_count": 3,
     "metadata": {},
     "output_type": "execute_result"
    }
   ],
   "source": [
    "from scipy.stats import zscore\n",
    "from components.processing import author_vectors, authors_df\n",
    "\n",
    "\n",
    "\n",
    "\n",
    "def get_author_identifying_features(author_id:str, threshold=2):\n",
    "    \"\"\"Only check abs value when looking for thresold?\"\"\"\n",
    "    \n",
    "    zscores = zscore(author_vectors)\n",
    "    idx = authors_df.loc[authors_df[\"author_id\"] == author_id].index[0]\n",
    "    author_zscores = zscores.iloc[idx]\n",
    "    \n",
    "    return author_zscores.loc[author_zscores > threshold]\n",
    "\n",
    "\n",
    "\n",
    "get_author_identifying_features(\"en_113\")\n"
   ]
  },
  {
   "cell_type": "code",
   "execution_count": 52,
   "id": "5895ca8b",
   "metadata": {},
   "outputs": [
    {
     "data": {
      "text/plain": [
       "['en_35',\n",
       " 'en_113',\n",
       " 'en_20',\n",
       " 'en_112',\n",
       " 'en_76',\n",
       " 'en_66',\n",
       " 'en_63',\n",
       " 'en_105',\n",
       " 'en_56',\n",
       " 'en_55',\n",
       " 'en_13',\n",
       " 'en_37',\n",
       " 'en_59',\n",
       " 'en_109',\n",
       " 'en_107',\n",
       " 'en_60',\n",
       " 'en_21',\n",
       " 'en_67',\n",
       " 'en_58',\n",
       " 'en_78',\n",
       " 'en_51',\n",
       " 'en_73',\n",
       " 'en_96',\n",
       " 'en_61',\n",
       " 'en_12',\n",
       " 'en_54',\n",
       " 'en_99',\n",
       " 'en_104',\n",
       " 'en_101',\n",
       " 'en_75',\n",
       " 'en_97',\n",
       " 'en_4',\n",
       " 'en_62',\n",
       " 'en_110',\n",
       " 'en_111',\n",
       " 'en_36',\n",
       " 'en_53',\n",
       " 'en_11',\n",
       " 'en_5',\n",
       " 'en_74',\n",
       " 'en_98',\n",
       " 'en_18',\n",
       " 'en_2',\n",
       " 'en_102',\n",
       " 'en_72',\n",
       " 'en_52',\n",
       " 'en_108',\n",
       " 'en_57',\n",
       " 'en_34',\n",
       " 'en_114',\n",
       " 'en_19',\n",
       " 'en_103',\n",
       " 'en_22',\n",
       " 'en_100',\n",
       " 'en_3',\n",
       " 'en_77']"
      ]
     },
     "execution_count": 52,
     "metadata": {},
     "output_type": "execute_result"
    }
   ],
   "source": [
    "\n",
    "\n",
    "\n"
   ]
  },
  {
   "cell_type": "code",
   "execution_count": 69,
   "id": "4aa87e02",
   "metadata": {},
   "outputs": [
    {
     "data": {
      "text/plain": [
       "33"
      ]
     },
     "execution_count": 69,
     "metadata": {},
     "output_type": "execute_result"
    }
   ],
   "source": [
    "authors_df.loc[authors_df[\"author_id\"] == \"en_110\"].index[0]"
   ]
  },
  {
   "cell_type": "code",
   "execution_count": null,
   "id": "18336b94",
   "metadata": {},
   "outputs": [],
   "source": []
  }
 ],
 "metadata": {
  "kernelspec": {
   "display_name": "Python 3 (ipykernel)",
   "language": "python",
   "name": "python3"
  },
  "language_info": {
   "codemirror_mode": {
    "name": "ipython",
    "version": 3
   },
   "file_extension": ".py",
   "mimetype": "text/x-python",
   "name": "python",
   "nbconvert_exporter": "python",
   "pygments_lexer": "ipython3",
   "version": "3.11.3"
  }
 },
 "nbformat": 4,
 "nbformat_minor": 5
}

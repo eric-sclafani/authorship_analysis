{
 "cells": [
  {
   "cell_type": "code",
   "execution_count": 14,
   "id": "fc2d5033-d97a-41d3-9dfa-3af95498e4eb",
   "metadata": {},
   "outputs": [],
   "source": [
    "import pandas as pd\n",
    "import numpy as np\n",
    "from typing import List, Dict\n",
    "import matplotlib.pyplot as plt\n",
    "import random\n",
    "import plotly.express as px\n",
    "import warnings\n",
    "from collections import Counter\n",
    "from sklearn.feature_extraction.text import TfidfVectorizer\n",
    "warnings.filterwarnings(\"ignore\")\n",
    "\n",
    "\n",
    "random.seed(42)"
   ]
  },
  {
   "attachments": {},
   "cell_type": "markdown",
   "id": "63aebb0b",
   "metadata": {},
   "source": [
    "The following cell contains code for creating the author vector csv"
   ]
  },
  {
   "cell_type": "code",
   "execution_count": 2,
   "id": "0f6a81a6",
   "metadata": {},
   "outputs": [],
   "source": [
    "doc_df = pd.read_csv(\"data/features/document_vectors.csv\")\n",
    "doc_values = doc_df.loc[:, ~doc_df.columns.isin(['doc_id', 'author_id'])]\n",
    "author_ids = set(doc_df[\"author_id\"])\n",
    "\n",
    "def make_author_vector(doc_vectors:np.ndarray) -> np.ndarray:\n",
    "    return np.mean(doc_vectors, axis=0)\n",
    "\n",
    "def make_author_vector_df(doc_df:pd.DataFrame, author_ids) -> pd.DataFrame:\n",
    "    \"\"\"Creates author vectors by averaging each author's documents into one\"\"\"\n",
    "    df_copy = doc_df.copy(deep=True).drop(columns=\"author_id\").drop(columns=\"doc_id\")\n",
    "    \n",
    "    author_ids_to_avs = {}\n",
    "    for author_id in author_ids:\n",
    "        doc_vectors = df_copy.loc[doc_df['author_id'] == author_id].values\n",
    "        author_ids_to_avs[author_id] = make_author_vector(doc_vectors)\n",
    "        \n",
    "    av_df = pd.DataFrame(author_ids_to_avs).T\n",
    "    av_df.columns = df_copy.columns\n",
    "\n",
    "    \n",
    "    return av_df\n",
    "\n",
    "    \n"
   ]
  },
  {
   "cell_type": "code",
   "execution_count": 50,
   "id": "ef25d779",
   "metadata": {},
   "outputs": [
    {
     "data": {
      "application/vnd.plotly.v1+json": {
       "config": {
        "plotlyServerURL": "https://plot.ly"
       },
       "data": [
        {
         "dimensions": [
          {
           "label": "POS Unigram:<br> ADV",
           "values": [
            0.0695652173913043,
            0.0520547945205479,
            0.0544959128065395,
            0.0321100917431192,
            0.0543209876543209,
            0.0527638190954773,
            0.0671641791044776,
            0.0503597122302158,
            0.0592105263157894,
            0.0485294117647058,
            0.0597609561752988,
            0.0896551724137931,
            0.1061946902654867,
            0.079646017699115,
            0.0486111111111111,
            0.1052631578947368,
            0.0620437956204379,
            0.1206896551724138,
            0.1028571428571428,
            0.0273972602739726,
            0.0463414634146341,
            0.1111111111111111,
            0.0407124681933842,
            0.0625,
            0.0316742081447963,
            0.073170731707317,
            0.0495867768595041,
            0.1186440677966101,
            0.1126760563380281,
            0.067750677506775,
            0.0824175824175824,
            0.0588235294117647,
            0.1034482758620689,
            0.0942028985507246,
            0.1186440677966101,
            0.1223021582733813,
            0.1065573770491803,
            0.0555555555555555,
            0.1578947368421052
           ]
          },
          {
           "label": "POS Bigram:<br> ('AUX', 'AUX')",
           "values": [
            0.0080645161290322,
            0.0077120822622107,
            0.0076726342710997,
            0.017391304347826,
            0.011574074074074,
            0.0095238095238095,
            0.0068493150684931,
            0.009090909090909,
            0.00625,
            0.0070323488045007,
            0.0113851992409867,
            0,
            0.0082644628099173,
            0.0168067226890756,
            0.0065934065934065,
            0.0165289256198347,
            0.0121107266435986,
            0.008,
            0.0108695652173913,
            0.019108280254777,
            0.0092378752886836,
            0.0158730158730158,
            0.0048309178743961,
            0,
            0.0062111801242236,
            0.0101522842639593,
            0,
            0.0157480314960629,
            0,
            0.010443864229765,
            0.0052219321148825,
            0.024390243902439,
            0.0130718954248366,
            0.0067567567567567,
            0.016,
            0,
            0.0151515151515151,
            0.017391304347826,
            0
           ]
          },
          {
           "label": "Function word:<br> 'll",
           "values": [
            0.0188679245283018,
            0,
            0,
            0,
            0.0059523809523809,
            0,
            0.0392156862745098,
            0,
            0,
            0,
            0,
            0,
            0,
            0,
            0,
            0,
            0,
            0.0217391304347826,
            0,
            0,
            0,
            0,
            0,
            0,
            0,
            0,
            0,
            0,
            0.0147058823529411,
            0,
            0,
            0.0545454545454545,
            0,
            0.0172413793103448,
            0.02,
            0,
            0.0217391304347826,
            0,
            0
           ]
          },
          {
           "label": "Function word:<br> 'd",
           "values": [
            0,
            0,
            0,
            0,
            0,
            0,
            0,
            0.0180722891566265,
            0.0098039215686274,
            0.003690036900369,
            0.0046511627906976,
            0,
            0,
            0,
            0,
            0,
            0,
            0,
            0,
            0,
            0.0059171597633136,
            0,
            0,
            0,
            0,
            0,
            0,
            0,
            0,
            0,
            0,
            0,
            0,
            0.0172413793103448,
            0,
            0.0163934426229508,
            0,
            0.0434782608695652,
            0
           ]
          },
          {
           "label": "Function word:<br> be",
           "values": [
            0.0188679245283018,
            0.0214285714285714,
            0.0215827338129496,
            0.0470588235294117,
            0.0297619047619047,
            0.0242424242424242,
            0.0196078431372549,
            0.0240963855421686,
            0.0294117647058823,
            0.03690036900369,
            0.041860465116279,
            0.0327868852459016,
            0.0434782608695652,
            0.0416666666666666,
            0.0211640211640211,
            0.0476190476190476,
            0.0080645161290322,
            0.0217391304347826,
            0.0405405405405405,
            0.0491803278688524,
            0.0177514792899408,
            0.0681818181818181,
            0.0251572327044025,
            0,
            0.0331550802139037,
            0.0272108843537414,
            0.0350877192982456,
            0.0444444444444444,
            0,
            0.0230125523012552,
            0.0240963855421686,
            0.0727272727272727,
            0.0394736842105263,
            0.0344827586206896,
            0.04,
            0.0163934426229508,
            0.0434782608695652,
            0.0217391304347826,
            0
           ]
          },
          {
           "label": "Function word:<br> here",
           "values": [
            0,
            0.0071428571428571,
            0,
            0,
            0,
            0,
            0,
            0,
            0,
            0,
            0,
            0,
            0.0434782608695652,
            0,
            0,
            0,
            0,
            0,
            0,
            0,
            0,
            0,
            0,
            0,
            0,
            0.0068027210884353,
            0,
            0.0222222222222222,
            0,
            0,
            0,
            0.0181818181818181,
            0.0263157894736842,
            0.0172413793103448,
            0.02,
            0,
            0.0217391304347826,
            0,
            0.0434782608695652
           ]
          },
          {
           "label": "Function word:<br> very",
           "values": [
            0,
            0.0071428571428571,
            0.0071942446043165,
            0,
            0.0178571428571428,
            0,
            0,
            0.0060240963855421,
            0.0049019607843137,
            0.003690036900369,
            0,
            0,
            0.0652173913043478,
            0,
            0.0105820105820105,
            0.0238095238095238,
            0.0040322580645161,
            0,
            0,
            0.0163934426229508,
            0.0059171597633136,
            0.0454545454545454,
            0,
            0,
            0.002139037433155,
            0,
            0.0175438596491228,
            0,
            0.0294117647058823,
            0.00418410041841,
            0,
            0,
            0,
            0.0172413793103448,
            0,
            0.0327868852459016,
            0,
            0,
            0
           ]
          },
          {
           "label": "Punctuation:<br> ;",
           "values": [
            0,
            0,
            0,
            0,
            0,
            0,
            0,
            0,
            0,
            0,
            0,
            0,
            0,
            0,
            0,
            0,
            0,
            0,
            0,
            0,
            0,
            0.0588235294117647,
            0,
            0.05,
            0,
            0,
            0,
            0.25,
            0,
            0,
            0,
            0.0909090909090909,
            0,
            0.0952380952380952,
            0.0833333333333333,
            0.1875,
            0,
            0,
            0
           ]
          },
          {
           "label": "Letter:<br> t",
           "values": [
            0.0930232558139534,
            0.0892494929006085,
            0.1043671354552183,
            0.0926594464500601,
            0.1044460127028934,
            0.0898725687458081,
            0.1153846153846153,
            0.0996143958868894,
            0.0933172787477423,
            0.0970177425443563,
            0.0873932697137117,
            0.0967741935483871,
            0.0966981132075471,
            0.0750670241286863,
            0.0974025974025974,
            0.0728155339805825,
            0.090167865707434,
            0.1066997518610421,
            0.1257763975155279,
            0.0932539682539682,
            0.0864280891289669,
            0.0845410628019323,
            0.0870748299319727,
            0.1,
            0.0896460238776792,
            0.0847826086956521,
            0.1076923076923077,
            0.0977443609022556,
            0.0991189427312775,
            0.0898804440649018,
            0.0887491264849755,
            0.1193317422434367,
            0.1161290322580645,
            0.0919765166340508,
            0.1005154639175257,
            0.1071428571428571,
            0.098876404494382,
            0.110576923076923,
            0.1103117505995203
           ]
          },
          {
           "label": "Emoji:<br> 😅",
           "values": [
            0,
            0,
            0,
            0,
            0,
            0,
            0,
            0,
            0,
            0,
            0,
            0.0068965517241379,
            0,
            0,
            0,
            0,
            0,
            0,
            0.0057142857142857,
            0,
            0,
            0.0085470085470085,
            0,
            0.0178571428571428,
            0,
            0,
            0,
            0,
            0.0070422535211267,
            0,
            0,
            0,
            0,
            0.0144927536231884,
            0.0084745762711864,
            0.014388489208633,
            0,
            0.0092592592592592,
            0.0087719298245614
           ]
          },
          {
           "label": "Dependency label:<br> advmod",
           "values": [
            0.0782608695652174,
            0.0602739726027397,
            0.0599455040871934,
            0.0412844036697247,
            0.0617283950617283,
            0.0527638190954773,
            0.0671641791044776,
            0.0551558752997601,
            0.0548245614035087,
            0.0529411764705882,
            0.0657370517928286,
            0.1241379310344827,
            0.1150442477876106,
            0.0884955752212389,
            0.0555555555555555,
            0.1140350877192982,
            0.072992700729927,
            0.1120689655172413,
            0.12,
            0.0273972602739726,
            0.0585365853658536,
            0.1111111111111111,
            0.0432569974554707,
            0.0714285714285714,
            0.0349062702003878,
            0.073170731707317,
            0.0495867768595041,
            0.135593220338983,
            0.1126760563380281,
            0.069557362240289,
            0.0824175824175824,
            0.0588235294117647,
            0.1034482758620689,
            0.108695652173913,
            0.1016949152542373,
            0.1079136690647482,
            0.1065573770491803,
            0.0925925925925925,
            0.1578947368421052
           ]
          },
          {
           "label": "Dependency label:<br> csubj",
           "values": [
            0,
            0.0027397260273972,
            0.0027247956403269,
            0,
            0,
            0,
            0,
            0,
            0,
            0,
            0,
            0,
            0.0265486725663716,
            0,
            0,
            0.0087719298245614,
            0,
            0,
            0,
            0,
            0,
            0.0085470085470085,
            0,
            0.0089285714285714,
            0.002262443438914,
            0,
            0.0082644628099173,
            0,
            0,
            0.000903342366757,
            0,
            0,
            0,
            0,
            0,
            0,
            0,
            0.0092592592592592,
            0
           ]
          }
         ],
         "domain": {
          "x": [
           0,
           1
          ],
          "y": [
           0,
           1
          ]
         },
         "name": "",
         "type": "parcoords"
        }
       ],
       "layout": {
        "font": {
         "size": 10
        },
        "legend": {
         "tracegroupgap": 0
        },
        "margin": {
         "t": 60
        },
        "template": {
         "data": {
          "bar": [
           {
            "error_x": {
             "color": "#2a3f5f"
            },
            "error_y": {
             "color": "#2a3f5f"
            },
            "marker": {
             "line": {
              "color": "#E5ECF6",
              "width": 0.5
             },
             "pattern": {
              "fillmode": "overlay",
              "size": 10,
              "solidity": 0.2
             }
            },
            "type": "bar"
           }
          ],
          "barpolar": [
           {
            "marker": {
             "line": {
              "color": "#E5ECF6",
              "width": 0.5
             },
             "pattern": {
              "fillmode": "overlay",
              "size": 10,
              "solidity": 0.2
             }
            },
            "type": "barpolar"
           }
          ],
          "carpet": [
           {
            "aaxis": {
             "endlinecolor": "#2a3f5f",
             "gridcolor": "white",
             "linecolor": "white",
             "minorgridcolor": "white",
             "startlinecolor": "#2a3f5f"
            },
            "baxis": {
             "endlinecolor": "#2a3f5f",
             "gridcolor": "white",
             "linecolor": "white",
             "minorgridcolor": "white",
             "startlinecolor": "#2a3f5f"
            },
            "type": "carpet"
           }
          ],
          "choropleth": [
           {
            "colorbar": {
             "outlinewidth": 0,
             "ticks": ""
            },
            "type": "choropleth"
           }
          ],
          "contour": [
           {
            "colorbar": {
             "outlinewidth": 0,
             "ticks": ""
            },
            "colorscale": [
             [
              0,
              "#0d0887"
             ],
             [
              0.1111111111111111,
              "#46039f"
             ],
             [
              0.2222222222222222,
              "#7201a8"
             ],
             [
              0.3333333333333333,
              "#9c179e"
             ],
             [
              0.4444444444444444,
              "#bd3786"
             ],
             [
              0.5555555555555556,
              "#d8576b"
             ],
             [
              0.6666666666666666,
              "#ed7953"
             ],
             [
              0.7777777777777778,
              "#fb9f3a"
             ],
             [
              0.8888888888888888,
              "#fdca26"
             ],
             [
              1,
              "#f0f921"
             ]
            ],
            "type": "contour"
           }
          ],
          "contourcarpet": [
           {
            "colorbar": {
             "outlinewidth": 0,
             "ticks": ""
            },
            "type": "contourcarpet"
           }
          ],
          "heatmap": [
           {
            "colorbar": {
             "outlinewidth": 0,
             "ticks": ""
            },
            "colorscale": [
             [
              0,
              "#0d0887"
             ],
             [
              0.1111111111111111,
              "#46039f"
             ],
             [
              0.2222222222222222,
              "#7201a8"
             ],
             [
              0.3333333333333333,
              "#9c179e"
             ],
             [
              0.4444444444444444,
              "#bd3786"
             ],
             [
              0.5555555555555556,
              "#d8576b"
             ],
             [
              0.6666666666666666,
              "#ed7953"
             ],
             [
              0.7777777777777778,
              "#fb9f3a"
             ],
             [
              0.8888888888888888,
              "#fdca26"
             ],
             [
              1,
              "#f0f921"
             ]
            ],
            "type": "heatmap"
           }
          ],
          "heatmapgl": [
           {
            "colorbar": {
             "outlinewidth": 0,
             "ticks": ""
            },
            "colorscale": [
             [
              0,
              "#0d0887"
             ],
             [
              0.1111111111111111,
              "#46039f"
             ],
             [
              0.2222222222222222,
              "#7201a8"
             ],
             [
              0.3333333333333333,
              "#9c179e"
             ],
             [
              0.4444444444444444,
              "#bd3786"
             ],
             [
              0.5555555555555556,
              "#d8576b"
             ],
             [
              0.6666666666666666,
              "#ed7953"
             ],
             [
              0.7777777777777778,
              "#fb9f3a"
             ],
             [
              0.8888888888888888,
              "#fdca26"
             ],
             [
              1,
              "#f0f921"
             ]
            ],
            "type": "heatmapgl"
           }
          ],
          "histogram": [
           {
            "marker": {
             "pattern": {
              "fillmode": "overlay",
              "size": 10,
              "solidity": 0.2
             }
            },
            "type": "histogram"
           }
          ],
          "histogram2d": [
           {
            "colorbar": {
             "outlinewidth": 0,
             "ticks": ""
            },
            "colorscale": [
             [
              0,
              "#0d0887"
             ],
             [
              0.1111111111111111,
              "#46039f"
             ],
             [
              0.2222222222222222,
              "#7201a8"
             ],
             [
              0.3333333333333333,
              "#9c179e"
             ],
             [
              0.4444444444444444,
              "#bd3786"
             ],
             [
              0.5555555555555556,
              "#d8576b"
             ],
             [
              0.6666666666666666,
              "#ed7953"
             ],
             [
              0.7777777777777778,
              "#fb9f3a"
             ],
             [
              0.8888888888888888,
              "#fdca26"
             ],
             [
              1,
              "#f0f921"
             ]
            ],
            "type": "histogram2d"
           }
          ],
          "histogram2dcontour": [
           {
            "colorbar": {
             "outlinewidth": 0,
             "ticks": ""
            },
            "colorscale": [
             [
              0,
              "#0d0887"
             ],
             [
              0.1111111111111111,
              "#46039f"
             ],
             [
              0.2222222222222222,
              "#7201a8"
             ],
             [
              0.3333333333333333,
              "#9c179e"
             ],
             [
              0.4444444444444444,
              "#bd3786"
             ],
             [
              0.5555555555555556,
              "#d8576b"
             ],
             [
              0.6666666666666666,
              "#ed7953"
             ],
             [
              0.7777777777777778,
              "#fb9f3a"
             ],
             [
              0.8888888888888888,
              "#fdca26"
             ],
             [
              1,
              "#f0f921"
             ]
            ],
            "type": "histogram2dcontour"
           }
          ],
          "mesh3d": [
           {
            "colorbar": {
             "outlinewidth": 0,
             "ticks": ""
            },
            "type": "mesh3d"
           }
          ],
          "parcoords": [
           {
            "line": {
             "colorbar": {
              "outlinewidth": 0,
              "ticks": ""
             }
            },
            "type": "parcoords"
           }
          ],
          "pie": [
           {
            "automargin": true,
            "type": "pie"
           }
          ],
          "scatter": [
           {
            "fillpattern": {
             "fillmode": "overlay",
             "size": 10,
             "solidity": 0.2
            },
            "type": "scatter"
           }
          ],
          "scatter3d": [
           {
            "line": {
             "colorbar": {
              "outlinewidth": 0,
              "ticks": ""
             }
            },
            "marker": {
             "colorbar": {
              "outlinewidth": 0,
              "ticks": ""
             }
            },
            "type": "scatter3d"
           }
          ],
          "scattercarpet": [
           {
            "marker": {
             "colorbar": {
              "outlinewidth": 0,
              "ticks": ""
             }
            },
            "type": "scattercarpet"
           }
          ],
          "scattergeo": [
           {
            "marker": {
             "colorbar": {
              "outlinewidth": 0,
              "ticks": ""
             }
            },
            "type": "scattergeo"
           }
          ],
          "scattergl": [
           {
            "marker": {
             "colorbar": {
              "outlinewidth": 0,
              "ticks": ""
             }
            },
            "type": "scattergl"
           }
          ],
          "scattermapbox": [
           {
            "marker": {
             "colorbar": {
              "outlinewidth": 0,
              "ticks": ""
             }
            },
            "type": "scattermapbox"
           }
          ],
          "scatterpolar": [
           {
            "marker": {
             "colorbar": {
              "outlinewidth": 0,
              "ticks": ""
             }
            },
            "type": "scatterpolar"
           }
          ],
          "scatterpolargl": [
           {
            "marker": {
             "colorbar": {
              "outlinewidth": 0,
              "ticks": ""
             }
            },
            "type": "scatterpolargl"
           }
          ],
          "scatterternary": [
           {
            "marker": {
             "colorbar": {
              "outlinewidth": 0,
              "ticks": ""
             }
            },
            "type": "scatterternary"
           }
          ],
          "surface": [
           {
            "colorbar": {
             "outlinewidth": 0,
             "ticks": ""
            },
            "colorscale": [
             [
              0,
              "#0d0887"
             ],
             [
              0.1111111111111111,
              "#46039f"
             ],
             [
              0.2222222222222222,
              "#7201a8"
             ],
             [
              0.3333333333333333,
              "#9c179e"
             ],
             [
              0.4444444444444444,
              "#bd3786"
             ],
             [
              0.5555555555555556,
              "#d8576b"
             ],
             [
              0.6666666666666666,
              "#ed7953"
             ],
             [
              0.7777777777777778,
              "#fb9f3a"
             ],
             [
              0.8888888888888888,
              "#fdca26"
             ],
             [
              1,
              "#f0f921"
             ]
            ],
            "type": "surface"
           }
          ],
          "table": [
           {
            "cells": {
             "fill": {
              "color": "#EBF0F8"
             },
             "line": {
              "color": "white"
             }
            },
            "header": {
             "fill": {
              "color": "#C8D4E3"
             },
             "line": {
              "color": "white"
             }
            },
            "type": "table"
           }
          ]
         },
         "layout": {
          "annotationdefaults": {
           "arrowcolor": "#2a3f5f",
           "arrowhead": 0,
           "arrowwidth": 1
          },
          "autotypenumbers": "strict",
          "coloraxis": {
           "colorbar": {
            "outlinewidth": 0,
            "ticks": ""
           }
          },
          "colorscale": {
           "diverging": [
            [
             0,
             "#8e0152"
            ],
            [
             0.1,
             "#c51b7d"
            ],
            [
             0.2,
             "#de77ae"
            ],
            [
             0.3,
             "#f1b6da"
            ],
            [
             0.4,
             "#fde0ef"
            ],
            [
             0.5,
             "#f7f7f7"
            ],
            [
             0.6,
             "#e6f5d0"
            ],
            [
             0.7,
             "#b8e186"
            ],
            [
             0.8,
             "#7fbc41"
            ],
            [
             0.9,
             "#4d9221"
            ],
            [
             1,
             "#276419"
            ]
           ],
           "sequential": [
            [
             0,
             "#0d0887"
            ],
            [
             0.1111111111111111,
             "#46039f"
            ],
            [
             0.2222222222222222,
             "#7201a8"
            ],
            [
             0.3333333333333333,
             "#9c179e"
            ],
            [
             0.4444444444444444,
             "#bd3786"
            ],
            [
             0.5555555555555556,
             "#d8576b"
            ],
            [
             0.6666666666666666,
             "#ed7953"
            ],
            [
             0.7777777777777778,
             "#fb9f3a"
            ],
            [
             0.8888888888888888,
             "#fdca26"
            ],
            [
             1,
             "#f0f921"
            ]
           ],
           "sequentialminus": [
            [
             0,
             "#0d0887"
            ],
            [
             0.1111111111111111,
             "#46039f"
            ],
            [
             0.2222222222222222,
             "#7201a8"
            ],
            [
             0.3333333333333333,
             "#9c179e"
            ],
            [
             0.4444444444444444,
             "#bd3786"
            ],
            [
             0.5555555555555556,
             "#d8576b"
            ],
            [
             0.6666666666666666,
             "#ed7953"
            ],
            [
             0.7777777777777778,
             "#fb9f3a"
            ],
            [
             0.8888888888888888,
             "#fdca26"
            ],
            [
             1,
             "#f0f921"
            ]
           ]
          },
          "colorway": [
           "#636efa",
           "#EF553B",
           "#00cc96",
           "#ab63fa",
           "#FFA15A",
           "#19d3f3",
           "#FF6692",
           "#B6E880",
           "#FF97FF",
           "#FECB52"
          ],
          "font": {
           "color": "#2a3f5f"
          },
          "geo": {
           "bgcolor": "white",
           "lakecolor": "white",
           "landcolor": "#E5ECF6",
           "showlakes": true,
           "showland": true,
           "subunitcolor": "white"
          },
          "hoverlabel": {
           "align": "left"
          },
          "hovermode": "closest",
          "mapbox": {
           "style": "light"
          },
          "paper_bgcolor": "white",
          "plot_bgcolor": "#E5ECF6",
          "polar": {
           "angularaxis": {
            "gridcolor": "white",
            "linecolor": "white",
            "ticks": ""
           },
           "bgcolor": "#E5ECF6",
           "radialaxis": {
            "gridcolor": "white",
            "linecolor": "white",
            "ticks": ""
           }
          },
          "scene": {
           "xaxis": {
            "backgroundcolor": "#E5ECF6",
            "gridcolor": "white",
            "gridwidth": 2,
            "linecolor": "white",
            "showbackground": true,
            "ticks": "",
            "zerolinecolor": "white"
           },
           "yaxis": {
            "backgroundcolor": "#E5ECF6",
            "gridcolor": "white",
            "gridwidth": 2,
            "linecolor": "white",
            "showbackground": true,
            "ticks": "",
            "zerolinecolor": "white"
           },
           "zaxis": {
            "backgroundcolor": "#E5ECF6",
            "gridcolor": "white",
            "gridwidth": 2,
            "linecolor": "white",
            "showbackground": true,
            "ticks": "",
            "zerolinecolor": "white"
           }
          },
          "shapedefaults": {
           "line": {
            "color": "#2a3f5f"
           }
          },
          "ternary": {
           "aaxis": {
            "gridcolor": "white",
            "linecolor": "white",
            "ticks": ""
           },
           "baxis": {
            "gridcolor": "white",
            "linecolor": "white",
            "ticks": ""
           },
           "bgcolor": "#E5ECF6",
           "caxis": {
            "gridcolor": "white",
            "linecolor": "white",
            "ticks": ""
           }
          },
          "title": {
           "x": 0.05
          },
          "xaxis": {
           "automargin": true,
           "gridcolor": "white",
           "linecolor": "white",
           "ticks": "",
           "title": {
            "standoff": 15
           },
           "zerolinecolor": "white",
           "zerolinewidth": 2
          },
          "yaxis": {
           "automargin": true,
           "gridcolor": "white",
           "linecolor": "white",
           "ticks": "",
           "title": {
            "standoff": 15
           },
           "zerolinecolor": "white",
           "zerolinewidth": 2
          }
         }
        }
       }
      }
     },
     "metadata": {},
     "output_type": "display_data"
    }
   ],
   "source": [
    "from scipy.stats import zscore\n",
    "from components.processing import author_vectors, authors_df, docs_df\n",
    "\n",
    "\n",
    "def get_threshold_zscores_idxs(zscores, threshold:float):\n",
    "    \"\"\"Gets indices for |zscores| that meet a threshold\"\"\"\n",
    "    selected = []\n",
    "    for i, zscore in enumerate(zscores):\n",
    "        if abs(zscore) >= threshold:\n",
    "            selected.append(i)\n",
    "    return selected\n",
    "\n",
    "\n",
    "def get_identifying_features(author_id:str, threshold=2.0):\n",
    "    \"\"\"\n",
    "    Given an author, calculates their zscores for all features and selects the ones that deviate the most from the \n",
    "    mean. These features are what separate this author from the average author\n",
    "    \"\"\"\n",
    "    zscores = zscore(author_vectors)\n",
    "    author_idx = authors_df.loc[authors_df[\"author_id\"] == author_id].index[0]\n",
    "    author_zscores = zscores.iloc[author_idx]\n",
    "    \n",
    "    selected_zscores = get_threshold_zscores_idxs(author_zscores, threshold)\n",
    "    return author_zscores.iloc[selected_zscores]\n",
    "\n",
    "\n",
    "def get_author_entries(author_id:str) -> pd.DataFrame:\n",
    "    return docs_df.loc[docs_df[\"author_id\"] == author_id]\n",
    "\n",
    "def features_to_show(author_id:str) -> List[str]:\n",
    "    \"\"\"Given an author id, returns n amount of this author's most identifying features\"\"\"\n",
    "    features = get_identifying_features(author_id).index.to_list()\n",
    "    if len(features) > 10:\n",
    "        return features[:12]\n",
    "    return features\n",
    "\n",
    "def style_pcp_label(label:str) -> str:\n",
    "    \"\"\"Prepends a feature with <br> for better styling\"\"\"\n",
    "    if label.count(\":\") > 1:\n",
    "        return label\n",
    "    else:    \n",
    "        feat_type, feat = label.split(\":\")\n",
    "        feat = \"<br>\" + feat\n",
    "        return f\"{feat_type}:{feat}\"\n",
    "\n",
    "        \n",
    "            \n",
    "    \n",
    "\n",
    "\n",
    "    \n",
    "\n",
    "    \n",
    "author = \"en_112\"\n",
    "author_features = features_to_show(author)\n",
    "author_entries = get_author_entries(author)\n",
    "\n",
    "fig = px.parallel_coordinates(\n",
    "    author_entries,\n",
    "    dimensions=author_features,\n",
    "    labels={label:style_pcp_label(label) for label in author_features}\n",
    ")\n",
    "fig.update_layout(\n",
    "    font=dict(\n",
    "        size=10,  # Set the font size here\n",
    "    )\n",
    ")\n",
    "\n",
    "fig.show()\n"
   ]
  },
  {
   "cell_type": "code",
   "execution_count": 41,
   "id": "27f76c7a",
   "metadata": {},
   "outputs": [
    {
     "data": {
      "text/plain": [
       "['POS Unigram:<br> NOUN',\n",
       " \"POS Bigram:<br> ('VERB', 'PRON')\",\n",
       " \"POS Bigram:<br> ('NOUN', 'ADP')\",\n",
       " \"POS Bigram:<br> ('VERB', 'DET')\",\n",
       " \"POS Bigram:<br> ('PROPN', 'PUNCT')\",\n",
       " 'Function word:<br> me',\n",
       " 'Function word:<br> yourself',\n",
       " 'Function word:<br> these',\n",
       " 'Function word:<br> doing',\n",
       " 'Function word:<br> further']"
      ]
     },
     "execution_count": 41,
     "metadata": {},
     "output_type": "execute_result"
    }
   ],
   "source": [
    "\n"
   ]
  },
  {
   "cell_type": "code",
   "execution_count": null,
   "id": "3be083cb",
   "metadata": {},
   "outputs": [],
   "source": []
  }
 ],
 "metadata": {
  "kernelspec": {
   "display_name": "venv",
   "language": "python",
   "name": "python3"
  },
  "language_info": {
   "codemirror_mode": {
    "name": "ipython",
    "version": 3
   },
   "file_extension": ".py",
   "mimetype": "text/x-python",
   "name": "python",
   "nbconvert_exporter": "python",
   "pygments_lexer": "ipython3",
   "version": "3.11.3"
  },
  "vscode": {
   "interpreter": {
    "hash": "cb4199edec22ad1db1c68636577eb450b142028077a33030af62183bdb2afb02"
   }
  }
 },
 "nbformat": 4,
 "nbformat_minor": 5
}

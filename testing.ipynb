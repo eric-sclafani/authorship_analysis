{
 "cells": [
  {
   "cell_type": "code",
   "execution_count": 1,
   "id": "fc2d5033-d97a-41d3-9dfa-3af95498e4eb",
   "metadata": {},
   "outputs": [],
   "source": [
    "import pandas as pd\n",
    "import numpy as np\n",
    "from typing import List, Dict\n",
    "import matplotlib.pyplot as plt\n",
    "import random\n",
    "import plotly.express as px\n",
    "import warnings\n",
    "from collections import Counter\n",
    "from sklearn.feature_extraction.text import TfidfVectorizer\n",
    "warnings.filterwarnings(\"ignore\")\n",
    "\n",
    "\n",
    "random.seed(42)"
   ]
  },
  {
   "attachments": {},
   "cell_type": "markdown",
   "id": "63aebb0b",
   "metadata": {},
   "source": [
    "The following cell contains code for creating the author vector csv"
   ]
  },
  {
   "cell_type": "code",
   "execution_count": 2,
   "id": "0f6a81a6",
   "metadata": {},
   "outputs": [],
   "source": [
    "doc_df = pd.read_csv(\"data/features/document_vectors.csv\")\n",
    "doc_values = doc_df.loc[:, ~doc_df.columns.isin(['doc_id', 'author_id'])]\n",
    "author_ids = set(doc_df[\"author_id\"])\n",
    "\n",
    "def make_author_vector(doc_vectors:np.ndarray) -> np.ndarray:\n",
    "    return np.mean(doc_vectors, axis=0)\n",
    "\n",
    "def make_author_vector_df(doc_df:pd.DataFrame, author_ids) -> pd.DataFrame:\n",
    "    \"\"\"Creates author vectors by averaging each author's documents into one\"\"\"\n",
    "    df_copy = doc_df.copy(deep=True).drop(columns=\"author_id\").drop(columns=\"doc_id\")\n",
    "    \n",
    "    author_ids_to_avs = {}\n",
    "    for author_id in author_ids:\n",
    "        doc_vectors = df_copy.loc[doc_df['author_id'] == author_id].values\n",
    "        author_ids_to_avs[author_id] = make_author_vector(doc_vectors)\n",
    "        \n",
    "    av_df = pd.DataFrame(author_ids_to_avs).T\n",
    "    av_df.columns = df_copy.columns\n",
    "\n",
    "\n",
    "    \n",
    "    return av_df\n",
    "\n",
    "\n",
    "av = make_author_vector_df(doc_df, author_ids)\n",
    "\n",
    "\n"
   ]
  },
  {
   "cell_type": "code",
   "execution_count": 5,
   "id": "ef25d779",
   "metadata": {},
   "outputs": [
    {
     "data": {
      "text/plain": [
       "POS Bigram: ('ADJ', 'PUNCT')    2.338344\n",
       "POS Bigram: ('VERB', 'ADJ')     2.548491\n",
       "POS Bigram: ('ADJ', 'ADP')      2.399235\n",
       "Letter: a                      -2.417109\n",
       "Letter: n                      -2.099656\n",
       "Letter: u                       2.285633\n",
       "Letter: y                       2.093896\n",
       "Letter: ó                       7.416198\n",
       "Emoji: 😊                        2.269565\n",
       "Emoji: ❤️                       2.529055\n",
       "Dependency label: acomp         2.368167\n",
       "Name: 33, dtype: float64"
      ]
     },
     "execution_count": 5,
     "metadata": {},
     "output_type": "execute_result"
    }
   ],
   "source": [
    "from scipy.stats import zscore\n",
    "from components.processing import author_vectors, authors_df, docs_df\n",
    "\n",
    "\n",
    "def get_threshold_zscores_idxs(zscores, threshold:float):\n",
    "    \"\"\"Gets indices for |zscores| that meet a threshold\"\"\"\n",
    "    selected = []\n",
    "    for i, zscore in enumerate(zscores):\n",
    "        if abs(zscore) >= threshold:\n",
    "            selected.append(i)\n",
    "    return selected\n",
    "\n",
    "\n",
    "def get_identifying_features(author_id:str, threshold=2.0):\n",
    "    \"\"\"\n",
    "    Given an author, calculates their zscores for all features and selects the ones that deviate the most from the \n",
    "    mean. These features are what separate this author from the average author\n",
    "    \"\"\"\n",
    "    zscores = zscore(author_vectors)\n",
    "    author_idx = authors_df.loc[authors_df[\"author_id\"] == author_id].index[0]\n",
    "    author_zscores = zscores.iloc[author_idx]\n",
    "    \n",
    "    selected_zscores = get_threshold_zscores_idxs(author_zscores, threshold)\n",
    "    return author_zscores.iloc[selected_zscores]\n",
    "\n",
    "\n",
    "def get_author_entries(author_id:str) -> pd.DataFrame:\n",
    "    return docs_df.loc[docs_df[\"author_id\"] == author_id]\n",
    "\n",
    "def features_to_show(author_id:str) -> List[str]:\n",
    "    \"\"\"Given an author id, returns n amount of this author's most identifying features\"\"\"\n",
    "    features = get_identifying_features(author_id).index.to_list()\n",
    "    if len(features) > 10:\n",
    "        return features[:12]\n",
    "    return features\n",
    "\n",
    "\n",
    "\n",
    "        \n",
    "            \n",
    "\n",
    "author = \"en_110\"\n",
    "get_identifying_features(author)"
   ]
  },
  {
   "cell_type": "code",
   "execution_count": 5,
   "id": "3be083cb",
   "metadata": {},
   "outputs": [
    {
     "data": {
      "text/plain": [
       "POS Unigram: ADV               2.391919\n",
       "POS Bigram: ('AUX', 'ADV')     2.259470\n",
       "POS Bigram: ('ADV', 'ADJ')     2.515201\n",
       "Function word: them            2.747071\n",
       "Function word: did             2.361154\n",
       "Function word: down            2.296019\n",
       "Function word: under           2.342981\n",
       "Function word: again           2.244927\n",
       "Function word: only            2.102501\n",
       "Function word: than            2.021664\n",
       "Punctuation: *                 2.241301\n",
       "Letter: b                      2.083508\n",
       "Dependency label: advmod       2.769957\n",
       "Dependency label: auxpass      2.170734\n",
       "Dependency label: nsubjpass    2.328799\n",
       "Morphology tag: Past           2.508990\n",
       "Name: 0, dtype: float64"
      ]
     },
     "execution_count": 5,
     "metadata": {},
     "output_type": "execute_result"
    }
   ],
   "source": [
    "get_identifying_features(\"en_35\")"
   ]
  },
  {
   "cell_type": "code",
   "execution_count": 5,
   "id": "14d26260",
   "metadata": {},
   "outputs": [
    {
     "data": {
      "text/plain": [
       "DataTable(data=[{'State': 'California', 'Number of Solar Plants': 289, 'Installed Capacity (MW)': 4395, 'Average MW Per Plant': 15.3, 'Generation (GWh)': 10826}, {'State': 'Arizona', 'Number of Solar Plants': 48, 'Installed Capacity (MW)': 1078, 'Average MW Per Plant': 22.5, 'Generation (GWh)': 2550}, {'State': 'Nevada', 'Number of Solar Plants': 11, 'Installed Capacity (MW)': 238, 'Average MW Per Plant': 21.6, 'Generation (GWh)': 557}, {'State': 'New Mexico', 'Number of Solar Plants': 33, 'Installed Capacity (MW)': 261, 'Average MW Per Plant': 7.9, 'Generation (GWh)': 590}, {'State': 'Colorado', 'Number of Solar Plants': 20, 'Installed Capacity (MW)': 118, 'Average MW Per Plant': 5.9, 'Generation (GWh)': 235}, {'State': 'Texas', 'Number of Solar Plants': 12, 'Installed Capacity (MW)': 187, 'Average MW Per Plant': 15.6, 'Generation (GWh)': 354}, {'State': 'North Carolina', 'Number of Solar Plants': 148, 'Installed Capacity (MW)': 669, 'Average MW Per Plant': 4.5, 'Generation (GWh)': 1162}, {'State': 'New York', 'Number of Solar Plants': 13, 'Installed Capacity (MW)': 53, 'Average MW Per Plant': 4.1, 'Generation (GWh)': 84}])"
      ]
     },
     "execution_count": 5,
     "metadata": {},
     "output_type": "execute_result"
    }
   ],
   "source": [
    "from dash import dash_table, html\n",
    "\n",
    "\n",
    "df = pd.read_csv('https://raw.githubusercontent.com/plotly/datasets/master/solar.csv')\n",
    "\n",
    "\n"
   ]
  },
  {
   "cell_type": "code",
   "execution_count": 6,
   "id": "446acb81",
   "metadata": {},
   "outputs": [
    {
     "data": {
      "text/plain": [
       "DataTable(data=[{'hello': [1, 2, 3], 'world': [4, 5, 6]}, {'hello': [1, 6, 3], 'world': [4, 5, 6]}])"
      ]
     },
     "execution_count": 6,
     "metadata": {},
     "output_type": "execute_result"
    }
   ],
   "source": []
  },
  {
   "cell_type": "code",
   "execution_count": null,
   "id": "e1e9ae62",
   "metadata": {},
   "outputs": [],
   "source": []
  }
 ],
 "metadata": {
  "kernelspec": {
   "display_name": "venv",
   "language": "python",
   "name": "python3"
  },
  "language_info": {
   "codemirror_mode": {
    "name": "ipython",
    "version": 3
   },
   "file_extension": ".py",
   "mimetype": "text/x-python",
   "name": "python",
   "nbconvert_exporter": "python",
   "pygments_lexer": "ipython3",
   "version": "3.11.3"
  },
  "vscode": {
   "interpreter": {
    "hash": "cb4199edec22ad1db1c68636577eb450b142028077a33030af62183bdb2afb02"
   }
  }
 },
 "nbformat": 4,
 "nbformat_minor": 5
}

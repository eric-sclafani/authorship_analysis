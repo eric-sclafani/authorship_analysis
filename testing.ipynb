{
 "cells": [
  {
   "cell_type": "code",
   "execution_count": 1,
   "id": "fc2d5033-d97a-41d3-9dfa-3af95498e4eb",
   "metadata": {},
   "outputs": [],
   "source": [
    "from wordcloud import WordCloud, STOPWORDS, ImageColorGenerator\n",
    "import plotly.graph_objects as go\n",
    "import pandas as pd\n",
    "import numpy as np\n",
    "import matplotlib.pyplot as plt\n",
    "import warnings\n",
    "from collections import Counter\n",
    "from typing import List, Set\n",
    "warnings.filterwarnings(\"ignore\")\n"
   ]
  },
  {
   "cell_type": "code",
   "execution_count": 53,
   "id": "0f6a81a6",
   "metadata": {},
   "outputs": [],
   "source": [
    "doc_df = pd.read_csv(\"data/document_vectors.csv\", index_col=\"doc_id\")\n",
    "author_ids = set(doc_df[\"author_id\"])"
   ]
  },
  {
   "cell_type": "code",
   "execution_count": 67,
   "id": "ef25d779",
   "metadata": {},
   "outputs": [],
   "source": [
    "\n",
    "def make_author_vector(doc_vectors:np.ndarray) -> np.ndarray:\n",
    "    return np.mean(doc_vectors, axis=0)\n",
    "\n",
    "def make_author_vector_df(doc_df:pd.DataFrame, author_ids:List[str]) -> pd.DataFrame:\n",
    "    \"\"\"Creates author vectors by averaging each author's documents into one\"\"\"\n",
    "    df_copy = doc_df.copy(deep=True).drop(columns=\"author_id\")\n",
    "    \n",
    "    author_ids_to_avs = {}\n",
    "    for author_id in author_ids:\n",
    "        doc_vectors = df_copy.loc[doc_df['author_id'] == author_id].values\n",
    "        author_ids_to_avs[author_id] = make_author_vector(doc_vectors)\n",
    "        \n",
    "    av_df = pd.DataFrame(author_ids_to_avs).T\n",
    "    av_df.columns = df_copy.columns\n",
    "\n",
    "    \n",
    "    return av_df\n",
    "\n",
    "    \n",
    "\n",
    "\n"
   ]
  },
  {
   "cell_type": "code",
   "execution_count": 48,
   "id": "c4c94adc",
   "metadata": {},
   "outputs": [
    {
     "data": {
      "text/plain": [
       "array([2.5, 3.5, 4.5])"
      ]
     },
     "execution_count": 48,
     "metadata": {},
     "output_type": "execute_result"
    }
   ],
   "source": []
  },
  {
   "cell_type": "code",
   "execution_count": null,
   "id": "bf662224",
   "metadata": {},
   "outputs": [],
   "source": []
  },
  {
   "cell_type": "code",
   "execution_count": null,
   "id": "61f781c3",
   "metadata": {},
   "outputs": [],
   "source": []
  }
 ],
 "metadata": {
  "kernelspec": {
   "display_name": "Python 3 (ipykernel)",
   "language": "python",
   "name": "python3"
  },
  "language_info": {
   "codemirror_mode": {
    "name": "ipython",
    "version": 3
   },
   "file_extension": ".py",
   "mimetype": "text/x-python",
   "name": "python",
   "nbconvert_exporter": "python",
   "pygments_lexer": "ipython3",
   "version": "3.11.3"
  }
 },
 "nbformat": 4,
 "nbformat_minor": 5
}

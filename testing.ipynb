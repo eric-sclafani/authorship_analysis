{
 "cells": [
  {
   "cell_type": "code",
   "execution_count": 1,
   "id": "fc2d5033-d97a-41d3-9dfa-3af95498e4eb",
   "metadata": {},
   "outputs": [],
   "source": [
    "import pandas as pd\n",
    "import numpy as np\n",
    "from pathlib import Path\n",
    "import matplotlib.pyplot as plt\n",
    "import random\n",
    "import plotly.express as px\n",
    "import warnings\n",
    "from collections import Counter\n",
    "from sklearn.feature_extraction.text import TfidfVectorizer\n",
    "warnings.filterwarnings(\"ignore\")\n",
    "\n",
    "\n",
    "random.seed(42)"
   ]
  },
  {
   "attachments": {},
   "cell_type": "markdown",
   "id": "63aebb0b",
   "metadata": {},
   "source": [
    "The following cell contains code for creating the author vector csv"
   ]
  },
  {
   "cell_type": "code",
   "execution_count": 2,
   "id": "0f6a81a6",
   "metadata": {},
   "outputs": [],
   "source": [
    "doc_df = pd.read_csv(\"data/features/document_vectors.csv\")\n",
    "doc_values = doc_df.loc[:, ~doc_df.columns.isin(['doc_id', 'author_id'])]\n",
    "author_ids = set(doc_df[\"author_id\"])\n",
    "\n",
    "def make_author_vector(doc_vectors:np.ndarray) -> np.ndarray:\n",
    "    return np.mean(doc_vectors, axis=0)\n",
    "\n",
    "def make_author_vector_df(doc_df:pd.DataFrame, author_ids) -> pd.DataFrame:\n",
    "    \"\"\"Creates author vectors by averaging each author's documents into one\"\"\"\n",
    "    df_copy = doc_df.copy(deep=True).drop(columns=\"author_id\").drop(columns=\"doc_id\")\n",
    "    \n",
    "    author_ids_to_avs = {}\n",
    "    for author_id in author_ids:\n",
    "        doc_vectors = df_copy.loc[doc_df['author_id'] == author_id].values\n",
    "        author_ids_to_avs[author_id] = make_author_vector(doc_vectors)\n",
    "        \n",
    "    av_df = pd.DataFrame(author_ids_to_avs).T\n",
    "    av_df.columns = df_copy.columns\n",
    "\n",
    "    \n",
    "    return av_df\n",
    "\n",
    "    \n"
   ]
  },
  {
   "cell_type": "code",
   "execution_count": 5,
   "id": "ef25d779",
   "metadata": {},
   "outputs": [
    {
     "data": {
      "text/plain": [
       "POS Unigram: NUM                    3.456512\n",
       "POS Unigram: X                      5.234894\n",
       "POS Bigram: ('VERB', 'NOUN')       -2.361870\n",
       "Function word: them                 3.342639\n",
       "Function word: am                   6.432398\n",
       "Function word: do                   2.188410\n",
       "Function word: an                   2.144364\n",
       "Function word: for                  4.925914\n",
       "Function word: when                 2.083991\n",
       "Punctuation: \"                      2.221971\n",
       "Letter: d                           3.065809\n",
       "Letter: o                          -2.144378\n",
       "Letter: A                           4.125225\n",
       "Letter: K                           2.338211\n",
       "Document statistic: word_len_std    2.403748\n",
       "Dependency label: nummod            2.724182\n",
       "Mixed Bigram: ('NOUN', 'of')       -2.066344\n",
       "Mixed Bigram: ('.', 'VERB')         2.258779\n",
       "Mixed Bigram: ('an', 'NOUN')        2.362862\n",
       "Name: 49, dtype: float64"
      ]
     },
     "execution_count": 5,
     "metadata": {},
     "output_type": "execute_result"
    }
   ],
   "source": [
    "from scipy.stats import zscore\n",
    "from components.processing import author_vectors, authors_df\n",
    "\n",
    "\n",
    "def get_threshold_zscores_idxs(zscores, threshold:float):\n",
    "    \"\"\"Gets indices for |zscores| that meet a threshold\"\"\"\n",
    "    selected = []\n",
    "    for i, zscore in enumerate(zscores):\n",
    "        if abs(zscore) > threshold:\n",
    "            selected.append(i)\n",
    "    return selected\n",
    "\n",
    "\n",
    "def get_author_identifying_features(author_id:str, threshold=2.0):\n",
    "    \"\"\"\n",
    "    Given an author calculates their zscores for all features and selects the ones that deviate the most from the \n",
    "    mean. These features are what separate this author from the average author\n",
    "    \"\"\"\n",
    "    zscores = zscore(author_vectors)\n",
    "    author_idx = authors_df.loc[authors_df[\"author_id\"] == author_id].index[0]\n",
    "    author_zscores = zscores.iloc[author_idx]\n",
    "    \n",
    "    selected_zscores = get_threshold_zscores_idxs(author_zscores, threshold)\n",
    "    return author_zscores.iloc[selected_zscores]\n",
    "\n",
    "\n",
    "\n",
    "get_author_identifying_features(\"en_114\")\n"
   ]
  },
  {
   "cell_type": "code",
   "execution_count": 25,
   "id": "18336b94",
   "metadata": {},
   "outputs": [
    {
     "data": {
      "text/plain": [
       "1"
      ]
     },
     "execution_count": 25,
     "metadata": {},
     "output_type": "execute_result"
    }
   ],
   "source": []
  },
  {
   "cell_type": "code",
   "execution_count": null,
   "id": "fb82bdfb",
   "metadata": {},
   "outputs": [],
   "source": []
  }
 ],
 "metadata": {
  "kernelspec": {
   "display_name": "venv",
   "language": "python",
   "name": "python3"
  },
  "language_info": {
   "codemirror_mode": {
    "name": "ipython",
    "version": 3
   },
   "file_extension": ".py",
   "mimetype": "text/x-python",
   "name": "python",
   "nbconvert_exporter": "python",
   "pygments_lexer": "ipython3",
   "version": "3.11.3"
  },
  "vscode": {
   "interpreter": {
    "hash": "cb4199edec22ad1db1c68636577eb450b142028077a33030af62183bdb2afb02"
   }
  }
 },
 "nbformat": 4,
 "nbformat_minor": 5
}

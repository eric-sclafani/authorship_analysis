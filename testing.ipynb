{
 "cells": [
  {
   "cell_type": "code",
   "execution_count": 1,
   "id": "fc2d5033-d97a-41d3-9dfa-3af95498e4eb",
   "metadata": {},
   "outputs": [],
   "source": [
    "import pandas as pd\n",
    "import numpy as np\n",
    "from typing import List, Dict\n",
    "import matplotlib.pyplot as plt\n",
    "import random\n",
    "import plotly.express as px\n",
    "import warnings\n",
    "from collections import Counter\n",
    "from sklearn.feature_extraction.text import TfidfVectorizer\n",
    "warnings.filterwarnings(\"ignore\")\n",
    "\n",
    "\n",
    "random.seed(42)"
   ]
  },
  {
   "attachments": {},
   "cell_type": "markdown",
   "id": "63aebb0b",
   "metadata": {},
   "source": [
    "The following cell contains code for creating the author vector csv"
   ]
  },
  {
   "cell_type": "code",
   "execution_count": 2,
   "id": "0f6a81a6",
   "metadata": {},
   "outputs": [],
   "source": [
    "doc_df = pd.read_csv(\"data/features/document_vectors.csv\")\n",
    "doc_values = doc_df.loc[:, ~doc_df.columns.isin(['doc_id', 'author_id'])]\n",
    "author_ids = set(doc_df[\"author_id\"])\n",
    "\n",
    "def make_author_vector(doc_vectors:np.ndarray) -> np.ndarray:\n",
    "    return np.mean(doc_vectors, axis=0)\n",
    "\n",
    "def make_author_vector_df(doc_df:pd.DataFrame, author_ids) -> pd.DataFrame:\n",
    "    \"\"\"Creates author vectors by averaging each author's documents into one\"\"\"\n",
    "    df_copy = doc_df.copy(deep=True).drop(columns=\"author_id\").drop(columns=\"doc_id\")\n",
    "    \n",
    "    author_ids_to_avs = {}\n",
    "    for author_id in author_ids:\n",
    "        doc_vectors = df_copy.loc[doc_df['author_id'] == author_id].values\n",
    "        author_ids_to_avs[author_id] = make_author_vector(doc_vectors)\n",
    "        \n",
    "    av_df = pd.DataFrame(author_ids_to_avs).T\n",
    "    av_df.columns = df_copy.columns\n",
    "\n",
    "    \n",
    "    return av_df\n",
    "\n",
    "    \n"
   ]
  },
  {
   "cell_type": "code",
   "execution_count": 4,
   "id": "ef25d779",
   "metadata": {},
   "outputs": [
    {
     "data": {
      "application/vnd.plotly.v1+json": {
       "config": {
        "plotlyServerURL": "https://plot.ly"
       },
       "data": [
        {
         "dimensions": [
          {
           "label": "POS Unigram:<br> ADV",
           "values": [
            0.1015452538631346,
            0.0625,
            0.0603448275862069,
            0.0334821428571428,
            0.091743119266055,
            0.1304347826086956,
            0.0697674418604651,
            0.1186440677966101,
            0.0459459459459459,
            0.1121495327102803,
            0.0484581497797356,
            0.0287081339712918,
            0.1171875,
            0.1428571428571428,
            0.0319148936170212,
            0.0734908136482939,
            0.0360700790106492
           ]
          },
          {
           "label": "POS Bigram:<br> ('AUX', 'ADV')",
           "values": [
            0.022680412371134,
            0.0135746606334841,
            0.015267175572519,
            0.0063157894736842,
            0.0172413793103448,
            0,
            0.0153846153846153,
            0.0296296296296296,
            0.0126262626262626,
            0,
            0.010351966873706,
            0.0091743119266055,
            0.0147058823529411,
            0.0092592592592592,
            0.0050125313283208,
            0.0174563591022443,
            0.0114678899082568
           ]
          },
          {
           "label": "POS Bigram:<br> ('ADV', 'ADJ')",
           "values": [
            0.0164948453608247,
            0.006787330316742,
            0.0076335877862595,
            0.0021052631578947,
            0.0086206896551724,
            0.025,
            0.0087912087912087,
            0.0296296296296296,
            0.0025252525252525,
            0.0267857142857142,
            0.0020703933747412,
            0.0045871559633027,
            0.0220588235294117,
            0.0185185185185185,
            0.0025062656641604,
            0.0024937655860349,
            0.0032765399737876
           ]
          },
          {
           "label": "Function word:<br> them",
           "values": [
            0,
            0,
            0,
            0.0061349693251533,
            0.0227272727272727,
            0.02,
            0,
            0,
            0,
            0.0454545454545454,
            0,
            0,
            0.0196078431372549,
            0.0697674418604651,
            0,
            0.0188679245283018,
            0.0025188916876574
           ]
          },
          {
           "label": "Function word:<br> did",
           "values": [
            0,
            0.0062111801242236,
            0.0277777777777777,
            0,
            0.0454545454545454,
            0,
            0,
            0.0909090909090909,
            0,
            0,
            0.0054644808743169,
            0,
            0,
            0,
            0.0064102564102564,
            0,
            0.0008396305625524
           ]
          },
          {
           "label": "Function word:<br> down",
           "values": [
            0.0057471264367816,
            0,
            0,
            0,
            0,
            0,
            0,
            0.0606060606060606,
            0,
            0,
            0,
            0,
            0,
            0,
            0,
            0,
            0
           ]
          },
          {
           "label": "Function word:<br> under",
           "values": [
            0,
            0,
            0.0277777777777777,
            0,
            0,
            0,
            0,
            0,
            0,
            0,
            0.0054644808743169,
            0,
            0,
            0,
            0,
            0,
            0.0008396305625524
           ]
          },
          {
           "label": "Function word:<br> again",
           "values": [
            0.0114942528735632,
            0,
            0.0277777777777777,
            0,
            0.0227272727272727,
            0.02,
            0.0062893081761006,
            0,
            0,
            0,
            0.0054644808743169,
            0,
            0,
            0,
            0,
            0.0125786163522012,
            0.0008396305625524
           ]
          },
          {
           "label": "Function word:<br> only",
           "values": [
            0.0057471264367816,
            0.0062111801242236,
            0,
            0.0061349693251533,
            0,
            0,
            0,
            0.0606060606060606,
            0,
            0,
            0,
            0,
            0.0196078431372549,
            0,
            0,
            0,
            0.0008396305625524
           ]
          },
          {
           "label": "Function word:<br> than",
           "values": [
            0.0057471264367816,
            0,
            0,
            0,
            0,
            0.02,
            0,
            0,
            0.0075187969924812,
            0.0227272727272727,
            0,
            0,
            0.0196078431372549,
            0,
            0,
            0,
            0.0016792611251049
           ]
          },
          {
           "label": "Punctuation:<br> *",
           "values": [
            0,
            0,
            0,
            0,
            0,
            0,
            0,
            0,
            0,
            0.125,
            0,
            0,
            0,
            0.125,
            0,
            0,
            0
           ]
          },
          {
           "label": "Letter:<br> b",
           "values": [
            0.0115755627009646,
            0.0132774283717679,
            0.0193236714975845,
            0.0115141047783534,
            0.0210280373831775,
            0.0128865979381443,
            0.0216852540272614,
            0.0098280098280098,
            0.0236641221374045,
            0.0297766749379652,
            0.0136579572446555,
            0.0151133501259445,
            0.0286975717439293,
            0.0212264150943396,
            0.0104895104895104,
            0.0197109067017082,
            0.0146162263561044
           ]
          }
         ],
         "domain": {
          "x": [
           0,
           1
          ],
          "y": [
           0,
           1
          ]
         },
         "name": "",
         "type": "parcoords"
        }
       ],
       "layout": {
        "font": {
         "size": 10
        },
        "legend": {
         "tracegroupgap": 0
        },
        "margin": {
         "t": 60
        },
        "template": {
         "data": {
          "bar": [
           {
            "error_x": {
             "color": "#2a3f5f"
            },
            "error_y": {
             "color": "#2a3f5f"
            },
            "marker": {
             "line": {
              "color": "#E5ECF6",
              "width": 0.5
             },
             "pattern": {
              "fillmode": "overlay",
              "size": 10,
              "solidity": 0.2
             }
            },
            "type": "bar"
           }
          ],
          "barpolar": [
           {
            "marker": {
             "line": {
              "color": "#E5ECF6",
              "width": 0.5
             },
             "pattern": {
              "fillmode": "overlay",
              "size": 10,
              "solidity": 0.2
             }
            },
            "type": "barpolar"
           }
          ],
          "carpet": [
           {
            "aaxis": {
             "endlinecolor": "#2a3f5f",
             "gridcolor": "white",
             "linecolor": "white",
             "minorgridcolor": "white",
             "startlinecolor": "#2a3f5f"
            },
            "baxis": {
             "endlinecolor": "#2a3f5f",
             "gridcolor": "white",
             "linecolor": "white",
             "minorgridcolor": "white",
             "startlinecolor": "#2a3f5f"
            },
            "type": "carpet"
           }
          ],
          "choropleth": [
           {
            "colorbar": {
             "outlinewidth": 0,
             "ticks": ""
            },
            "type": "choropleth"
           }
          ],
          "contour": [
           {
            "colorbar": {
             "outlinewidth": 0,
             "ticks": ""
            },
            "colorscale": [
             [
              0,
              "#0d0887"
             ],
             [
              0.1111111111111111,
              "#46039f"
             ],
             [
              0.2222222222222222,
              "#7201a8"
             ],
             [
              0.3333333333333333,
              "#9c179e"
             ],
             [
              0.4444444444444444,
              "#bd3786"
             ],
             [
              0.5555555555555556,
              "#d8576b"
             ],
             [
              0.6666666666666666,
              "#ed7953"
             ],
             [
              0.7777777777777778,
              "#fb9f3a"
             ],
             [
              0.8888888888888888,
              "#fdca26"
             ],
             [
              1,
              "#f0f921"
             ]
            ],
            "type": "contour"
           }
          ],
          "contourcarpet": [
           {
            "colorbar": {
             "outlinewidth": 0,
             "ticks": ""
            },
            "type": "contourcarpet"
           }
          ],
          "heatmap": [
           {
            "colorbar": {
             "outlinewidth": 0,
             "ticks": ""
            },
            "colorscale": [
             [
              0,
              "#0d0887"
             ],
             [
              0.1111111111111111,
              "#46039f"
             ],
             [
              0.2222222222222222,
              "#7201a8"
             ],
             [
              0.3333333333333333,
              "#9c179e"
             ],
             [
              0.4444444444444444,
              "#bd3786"
             ],
             [
              0.5555555555555556,
              "#d8576b"
             ],
             [
              0.6666666666666666,
              "#ed7953"
             ],
             [
              0.7777777777777778,
              "#fb9f3a"
             ],
             [
              0.8888888888888888,
              "#fdca26"
             ],
             [
              1,
              "#f0f921"
             ]
            ],
            "type": "heatmap"
           }
          ],
          "heatmapgl": [
           {
            "colorbar": {
             "outlinewidth": 0,
             "ticks": ""
            },
            "colorscale": [
             [
              0,
              "#0d0887"
             ],
             [
              0.1111111111111111,
              "#46039f"
             ],
             [
              0.2222222222222222,
              "#7201a8"
             ],
             [
              0.3333333333333333,
              "#9c179e"
             ],
             [
              0.4444444444444444,
              "#bd3786"
             ],
             [
              0.5555555555555556,
              "#d8576b"
             ],
             [
              0.6666666666666666,
              "#ed7953"
             ],
             [
              0.7777777777777778,
              "#fb9f3a"
             ],
             [
              0.8888888888888888,
              "#fdca26"
             ],
             [
              1,
              "#f0f921"
             ]
            ],
            "type": "heatmapgl"
           }
          ],
          "histogram": [
           {
            "marker": {
             "pattern": {
              "fillmode": "overlay",
              "size": 10,
              "solidity": 0.2
             }
            },
            "type": "histogram"
           }
          ],
          "histogram2d": [
           {
            "colorbar": {
             "outlinewidth": 0,
             "ticks": ""
            },
            "colorscale": [
             [
              0,
              "#0d0887"
             ],
             [
              0.1111111111111111,
              "#46039f"
             ],
             [
              0.2222222222222222,
              "#7201a8"
             ],
             [
              0.3333333333333333,
              "#9c179e"
             ],
             [
              0.4444444444444444,
              "#bd3786"
             ],
             [
              0.5555555555555556,
              "#d8576b"
             ],
             [
              0.6666666666666666,
              "#ed7953"
             ],
             [
              0.7777777777777778,
              "#fb9f3a"
             ],
             [
              0.8888888888888888,
              "#fdca26"
             ],
             [
              1,
              "#f0f921"
             ]
            ],
            "type": "histogram2d"
           }
          ],
          "histogram2dcontour": [
           {
            "colorbar": {
             "outlinewidth": 0,
             "ticks": ""
            },
            "colorscale": [
             [
              0,
              "#0d0887"
             ],
             [
              0.1111111111111111,
              "#46039f"
             ],
             [
              0.2222222222222222,
              "#7201a8"
             ],
             [
              0.3333333333333333,
              "#9c179e"
             ],
             [
              0.4444444444444444,
              "#bd3786"
             ],
             [
              0.5555555555555556,
              "#d8576b"
             ],
             [
              0.6666666666666666,
              "#ed7953"
             ],
             [
              0.7777777777777778,
              "#fb9f3a"
             ],
             [
              0.8888888888888888,
              "#fdca26"
             ],
             [
              1,
              "#f0f921"
             ]
            ],
            "type": "histogram2dcontour"
           }
          ],
          "mesh3d": [
           {
            "colorbar": {
             "outlinewidth": 0,
             "ticks": ""
            },
            "type": "mesh3d"
           }
          ],
          "parcoords": [
           {
            "line": {
             "colorbar": {
              "outlinewidth": 0,
              "ticks": ""
             }
            },
            "type": "parcoords"
           }
          ],
          "pie": [
           {
            "automargin": true,
            "type": "pie"
           }
          ],
          "scatter": [
           {
            "fillpattern": {
             "fillmode": "overlay",
             "size": 10,
             "solidity": 0.2
            },
            "type": "scatter"
           }
          ],
          "scatter3d": [
           {
            "line": {
             "colorbar": {
              "outlinewidth": 0,
              "ticks": ""
             }
            },
            "marker": {
             "colorbar": {
              "outlinewidth": 0,
              "ticks": ""
             }
            },
            "type": "scatter3d"
           }
          ],
          "scattercarpet": [
           {
            "marker": {
             "colorbar": {
              "outlinewidth": 0,
              "ticks": ""
             }
            },
            "type": "scattercarpet"
           }
          ],
          "scattergeo": [
           {
            "marker": {
             "colorbar": {
              "outlinewidth": 0,
              "ticks": ""
             }
            },
            "type": "scattergeo"
           }
          ],
          "scattergl": [
           {
            "marker": {
             "colorbar": {
              "outlinewidth": 0,
              "ticks": ""
             }
            },
            "type": "scattergl"
           }
          ],
          "scattermapbox": [
           {
            "marker": {
             "colorbar": {
              "outlinewidth": 0,
              "ticks": ""
             }
            },
            "type": "scattermapbox"
           }
          ],
          "scatterpolar": [
           {
            "marker": {
             "colorbar": {
              "outlinewidth": 0,
              "ticks": ""
             }
            },
            "type": "scatterpolar"
           }
          ],
          "scatterpolargl": [
           {
            "marker": {
             "colorbar": {
              "outlinewidth": 0,
              "ticks": ""
             }
            },
            "type": "scatterpolargl"
           }
          ],
          "scatterternary": [
           {
            "marker": {
             "colorbar": {
              "outlinewidth": 0,
              "ticks": ""
             }
            },
            "type": "scatterternary"
           }
          ],
          "surface": [
           {
            "colorbar": {
             "outlinewidth": 0,
             "ticks": ""
            },
            "colorscale": [
             [
              0,
              "#0d0887"
             ],
             [
              0.1111111111111111,
              "#46039f"
             ],
             [
              0.2222222222222222,
              "#7201a8"
             ],
             [
              0.3333333333333333,
              "#9c179e"
             ],
             [
              0.4444444444444444,
              "#bd3786"
             ],
             [
              0.5555555555555556,
              "#d8576b"
             ],
             [
              0.6666666666666666,
              "#ed7953"
             ],
             [
              0.7777777777777778,
              "#fb9f3a"
             ],
             [
              0.8888888888888888,
              "#fdca26"
             ],
             [
              1,
              "#f0f921"
             ]
            ],
            "type": "surface"
           }
          ],
          "table": [
           {
            "cells": {
             "fill": {
              "color": "#EBF0F8"
             },
             "line": {
              "color": "white"
             }
            },
            "header": {
             "fill": {
              "color": "#C8D4E3"
             },
             "line": {
              "color": "white"
             }
            },
            "type": "table"
           }
          ]
         },
         "layout": {
          "annotationdefaults": {
           "arrowcolor": "#2a3f5f",
           "arrowhead": 0,
           "arrowwidth": 1
          },
          "autotypenumbers": "strict",
          "coloraxis": {
           "colorbar": {
            "outlinewidth": 0,
            "ticks": ""
           }
          },
          "colorscale": {
           "diverging": [
            [
             0,
             "#8e0152"
            ],
            [
             0.1,
             "#c51b7d"
            ],
            [
             0.2,
             "#de77ae"
            ],
            [
             0.3,
             "#f1b6da"
            ],
            [
             0.4,
             "#fde0ef"
            ],
            [
             0.5,
             "#f7f7f7"
            ],
            [
             0.6,
             "#e6f5d0"
            ],
            [
             0.7,
             "#b8e186"
            ],
            [
             0.8,
             "#7fbc41"
            ],
            [
             0.9,
             "#4d9221"
            ],
            [
             1,
             "#276419"
            ]
           ],
           "sequential": [
            [
             0,
             "#0d0887"
            ],
            [
             0.1111111111111111,
             "#46039f"
            ],
            [
             0.2222222222222222,
             "#7201a8"
            ],
            [
             0.3333333333333333,
             "#9c179e"
            ],
            [
             0.4444444444444444,
             "#bd3786"
            ],
            [
             0.5555555555555556,
             "#d8576b"
            ],
            [
             0.6666666666666666,
             "#ed7953"
            ],
            [
             0.7777777777777778,
             "#fb9f3a"
            ],
            [
             0.8888888888888888,
             "#fdca26"
            ],
            [
             1,
             "#f0f921"
            ]
           ],
           "sequentialminus": [
            [
             0,
             "#0d0887"
            ],
            [
             0.1111111111111111,
             "#46039f"
            ],
            [
             0.2222222222222222,
             "#7201a8"
            ],
            [
             0.3333333333333333,
             "#9c179e"
            ],
            [
             0.4444444444444444,
             "#bd3786"
            ],
            [
             0.5555555555555556,
             "#d8576b"
            ],
            [
             0.6666666666666666,
             "#ed7953"
            ],
            [
             0.7777777777777778,
             "#fb9f3a"
            ],
            [
             0.8888888888888888,
             "#fdca26"
            ],
            [
             1,
             "#f0f921"
            ]
           ]
          },
          "colorway": [
           "#636efa",
           "#EF553B",
           "#00cc96",
           "#ab63fa",
           "#FFA15A",
           "#19d3f3",
           "#FF6692",
           "#B6E880",
           "#FF97FF",
           "#FECB52"
          ],
          "font": {
           "color": "#2a3f5f"
          },
          "geo": {
           "bgcolor": "white",
           "lakecolor": "white",
           "landcolor": "#E5ECF6",
           "showlakes": true,
           "showland": true,
           "subunitcolor": "white"
          },
          "hoverlabel": {
           "align": "left"
          },
          "hovermode": "closest",
          "mapbox": {
           "style": "light"
          },
          "paper_bgcolor": "white",
          "plot_bgcolor": "#E5ECF6",
          "polar": {
           "angularaxis": {
            "gridcolor": "white",
            "linecolor": "white",
            "ticks": ""
           },
           "bgcolor": "#E5ECF6",
           "radialaxis": {
            "gridcolor": "white",
            "linecolor": "white",
            "ticks": ""
           }
          },
          "scene": {
           "xaxis": {
            "backgroundcolor": "#E5ECF6",
            "gridcolor": "white",
            "gridwidth": 2,
            "linecolor": "white",
            "showbackground": true,
            "ticks": "",
            "zerolinecolor": "white"
           },
           "yaxis": {
            "backgroundcolor": "#E5ECF6",
            "gridcolor": "white",
            "gridwidth": 2,
            "linecolor": "white",
            "showbackground": true,
            "ticks": "",
            "zerolinecolor": "white"
           },
           "zaxis": {
            "backgroundcolor": "#E5ECF6",
            "gridcolor": "white",
            "gridwidth": 2,
            "linecolor": "white",
            "showbackground": true,
            "ticks": "",
            "zerolinecolor": "white"
           }
          },
          "shapedefaults": {
           "line": {
            "color": "#2a3f5f"
           }
          },
          "ternary": {
           "aaxis": {
            "gridcolor": "white",
            "linecolor": "white",
            "ticks": ""
           },
           "baxis": {
            "gridcolor": "white",
            "linecolor": "white",
            "ticks": ""
           },
           "bgcolor": "#E5ECF6",
           "caxis": {
            "gridcolor": "white",
            "linecolor": "white",
            "ticks": ""
           }
          },
          "title": {
           "x": 0.05
          },
          "xaxis": {
           "automargin": true,
           "gridcolor": "white",
           "linecolor": "white",
           "ticks": "",
           "title": {
            "standoff": 15
           },
           "zerolinecolor": "white",
           "zerolinewidth": 2
          },
          "yaxis": {
           "automargin": true,
           "gridcolor": "white",
           "linecolor": "white",
           "ticks": "",
           "title": {
            "standoff": 15
           },
           "zerolinecolor": "white",
           "zerolinewidth": 2
          }
         }
        }
       }
      }
     },
     "metadata": {},
     "output_type": "display_data"
    }
   ],
   "source": [
    "from scipy.stats import zscore\n",
    "from components.processing import author_vectors, authors_df, docs_df\n",
    "\n",
    "\n",
    "def get_threshold_zscores_idxs(zscores, threshold:float):\n",
    "    \"\"\"Gets indices for |zscores| that meet a threshold\"\"\"\n",
    "    selected = []\n",
    "    for i, zscore in enumerate(zscores):\n",
    "        if abs(zscore) >= threshold:\n",
    "            selected.append(i)\n",
    "    return selected\n",
    "\n",
    "\n",
    "def get_identifying_features(author_id:str, threshold=2.0):\n",
    "    \"\"\"\n",
    "    Given an author, calculates their zscores for all features and selects the ones that deviate the most from the \n",
    "    mean. These features are what separate this author from the average author\n",
    "    \"\"\"\n",
    "    zscores = zscore(author_vectors)\n",
    "    author_idx = authors_df.loc[authors_df[\"author_id\"] == author_id].index[0]\n",
    "    author_zscores = zscores.iloc[author_idx]\n",
    "    \n",
    "    selected_zscores = get_threshold_zscores_idxs(author_zscores, threshold)\n",
    "    return author_zscores.iloc[selected_zscores]\n",
    "\n",
    "\n",
    "def get_author_entries(author_id:str) -> pd.DataFrame:\n",
    "    return docs_df.loc[docs_df[\"author_id\"] == author_id]\n",
    "\n",
    "def features_to_show(author_id:str) -> List[str]:\n",
    "    \"\"\"Given an author id, returns n amount of this author's most identifying features\"\"\"\n",
    "    features = get_identifying_features(author_id).index.to_list()\n",
    "    if len(features) > 10:\n",
    "        return features[:12]\n",
    "    return features\n",
    "\n",
    "def style_pcp_label(label:str) -> str:\n",
    "    \"\"\"Prepends a feature with <br> for better styling\"\"\"\n",
    "    if label.count(\":\") > 1:\n",
    "        return label\n",
    "    else:    \n",
    "        feat_type, feat = label.split(\":\")\n",
    "        feat = \"<br>\" + feat\n",
    "        return f\"{feat_type}:{feat}\"\n",
    "\n",
    "        \n",
    "            \n",
    "\n",
    "author = \"en_35\"\n",
    "author_features = features_to_show(author)\n",
    "author_entries = get_author_entries(author)\n",
    "\n",
    "fig = px.parallel_coordinates(\n",
    "    author_entries,\n",
    "    dimensions=author_features,\n",
    "    labels={label:style_pcp_label(label) for label in author_features}\n",
    ")\n",
    "fig.update_layout(\n",
    "    font=dict(\n",
    "        size=10,  # Set the font size here\n",
    "    )\n",
    ")\n",
    "\n",
    "fig.show()\n"
   ]
  },
  {
   "cell_type": "code",
   "execution_count": 41,
   "id": "27f76c7a",
   "metadata": {},
   "outputs": [
    {
     "data": {
      "text/plain": [
       "['POS Unigram:<br> NOUN',\n",
       " \"POS Bigram:<br> ('VERB', 'PRON')\",\n",
       " \"POS Bigram:<br> ('NOUN', 'ADP')\",\n",
       " \"POS Bigram:<br> ('VERB', 'DET')\",\n",
       " \"POS Bigram:<br> ('PROPN', 'PUNCT')\",\n",
       " 'Function word:<br> me',\n",
       " 'Function word:<br> yourself',\n",
       " 'Function word:<br> these',\n",
       " 'Function word:<br> doing',\n",
       " 'Function word:<br> further']"
      ]
     },
     "execution_count": 41,
     "metadata": {},
     "output_type": "execute_result"
    }
   ],
   "source": [
    "\n"
   ]
  },
  {
   "cell_type": "code",
   "execution_count": 5,
   "id": "3be083cb",
   "metadata": {},
   "outputs": [
    {
     "data": {
      "text/plain": [
       "POS Unigram: ADV               2.391919\n",
       "POS Bigram: ('AUX', 'ADV')     2.259470\n",
       "POS Bigram: ('ADV', 'ADJ')     2.515201\n",
       "Function word: them            2.747071\n",
       "Function word: did             2.361154\n",
       "Function word: down            2.296019\n",
       "Function word: under           2.342981\n",
       "Function word: again           2.244927\n",
       "Function word: only            2.102501\n",
       "Function word: than            2.021664\n",
       "Punctuation: *                 2.241301\n",
       "Letter: b                      2.083508\n",
       "Dependency label: advmod       2.769957\n",
       "Dependency label: auxpass      2.170734\n",
       "Dependency label: nsubjpass    2.328799\n",
       "Morphology tag: Past           2.508990\n",
       "Name: 0, dtype: float64"
      ]
     },
     "execution_count": 5,
     "metadata": {},
     "output_type": "execute_result"
    }
   ],
   "source": [
    "get_identifying_features(\"en_35\")"
   ]
  },
  {
   "cell_type": "code",
   "execution_count": null,
   "id": "14d26260",
   "metadata": {},
   "outputs": [],
   "source": []
  }
 ],
 "metadata": {
  "kernelspec": {
   "display_name": "venv",
   "language": "python",
   "name": "python3"
  },
  "language_info": {
   "codemirror_mode": {
    "name": "ipython",
    "version": 3
   },
   "file_extension": ".py",
   "mimetype": "text/x-python",
   "name": "python",
   "nbconvert_exporter": "python",
   "pygments_lexer": "ipython3",
   "version": "3.11.3"
  },
  "vscode": {
   "interpreter": {
    "hash": "cb4199edec22ad1db1c68636577eb450b142028077a33030af62183bdb2afb02"
   }
  }
 },
 "nbformat": 4,
 "nbformat_minor": 5
}

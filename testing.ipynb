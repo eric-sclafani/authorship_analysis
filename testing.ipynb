{
 "cells": [
  {
   "cell_type": "code",
   "execution_count": 1,
   "id": "fc2d5033-d97a-41d3-9dfa-3af95498e4eb",
   "metadata": {},
   "outputs": [],
   "source": [
    "from wordcloud import WordCloud, STOPWORDS, ImageColorGenerator\n",
    "import plotly.graph_objects as go\n",
    "from sklearn.cluster import KMeans\n",
    "import pandas as pd\n",
    "import numpy as np\n",
    "import matplotlib.pyplot as plt\n",
    "import plotly.express as px\n",
    "import warnings\n",
    "from collections import Counter\n",
    "from typing import List, Set\n",
    "warnings.filterwarnings(\"ignore\")\n"
   ]
  },
  {
   "cell_type": "code",
   "execution_count": 2,
   "id": "0f6a81a6",
   "metadata": {},
   "outputs": [],
   "source": [
    "doc_df = pd.read_csv(\"data/features/document_vectors.csv\", index_col=\"doc_id\")\n",
    "doc_values = doc_df.loc[:, ~doc_df.columns.isin(['doc_id', 'author_id'])]\n",
    "author_ids = set(doc_df[\"author_id\"])\n"
   ]
  },
  {
   "cell_type": "code",
   "execution_count": 8,
   "id": "ef25d779",
   "metadata": {},
   "outputs": [],
   "source": [
    "\n",
    "def make_author_vector(doc_vectors:np.ndarray) -> np.ndarray:\n",
    "    return np.mean(doc_vectors, axis=0)\n",
    "\n",
    "def make_author_vector_df(doc_df:pd.DataFrame, author_ids:List[str]) -> pd.DataFrame:\n",
    "    \"\"\"Creates author vectors by averaging each author's documents into one\"\"\"\n",
    "    df_copy = doc_df.copy(deep=True).drop(columns=\"author_id\")\n",
    "    \n",
    "    author_ids_to_avs = {}\n",
    "    for author_id in author_ids:\n",
    "        doc_vectors = df_copy.loc[doc_df['author_id'] == author_id].values\n",
    "        author_ids_to_avs[author_id] = make_author_vector(doc_vectors)\n",
    "        \n",
    "    av_df = pd.DataFrame(author_ids_to_avs).T\n",
    "    av_df.columns = df_copy.columns\n",
    "\n",
    "    \n",
    "    return av_df\n",
    "\n",
    "    \n",
    "av_df = make_author_vector_df(doc_df, author_ids)\n",
    "av_values = av_df.loc[:, ~av_df.columns.isin(['author_id'])]\n",
    "\n"
   ]
  },
  {
   "cell_type": "code",
   "execution_count": 10,
   "id": "c4c94adc",
   "metadata": {},
   "outputs": [
    {
     "data": {
      "text/plain": [
       "array([4, 0, 4, ..., 4, 4, 0], dtype=int32)"
      ]
     },
     "execution_count": 10,
     "metadata": {},
     "output_type": "execute_result"
    }
   ],
   "source": [
    "doc_kmeans = KMeans(n_clusters=6, random_state=42)\n",
    "doc_kmeans.fit(doc_values.values)\n",
    "\n",
    "\n",
    "doc_kmeans.labels_"
   ]
  },
  {
   "cell_type": "code",
   "execution_count": 11,
   "id": "5895ca8b",
   "metadata": {},
   "outputs": [
    {
     "data": {
      "text/plain": [
       "POS Unigram: ADJ        0.054614\n",
       "POS Unigram: ADP        0.074745\n",
       "POS Unigram: ADV        0.053280\n",
       "POS Unigram: AUX        0.075881\n",
       "POS Unigram: CCONJ      0.025977\n",
       "                          ...   \n",
       "Morphology tag: Prog    0.013577\n",
       "Morphology tag: Perf    0.012061\n",
       "Morphology tag: 1       0.042004\n",
       "Morphology tag: 3       0.040013\n",
       "Morphology tag: 2       0.015983\n",
       "Length: 428, dtype: float64"
      ]
     },
     "execution_count": 11,
     "metadata": {},
     "output_type": "execute_result"
    }
   ],
   "source": [
    "\n",
    "df = pd.read_csv(\"data/features/author_vectors.csv\")\n",
    "\n",
    "\n",
    "df.loc[:, ~df.columns.isin(['author_id'])]"
   ]
  },
  {
   "cell_type": "code",
   "execution_count": null,
   "id": "a86bbc7e",
   "metadata": {},
   "outputs": [],
   "source": [
    "test_author = \"en_110\"\n",
    "\n",
    "df = pd.read_json()"
   ]
  }
 ],
 "metadata": {
  "kernelspec": {
   "display_name": "Python 3 (ipykernel)",
   "language": "python",
   "name": "python3"
  },
  "language_info": {
   "codemirror_mode": {
    "name": "ipython",
    "version": 3
   },
   "file_extension": ".py",
   "mimetype": "text/x-python",
   "name": "python",
   "nbconvert_exporter": "python",
   "pygments_lexer": "ipython3",
   "version": "3.11.3"
  }
 },
 "nbformat": 4,
 "nbformat_minor": 5
}

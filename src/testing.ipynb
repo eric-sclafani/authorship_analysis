{
 "cells": [
  {
   "cell_type": "code",
   "execution_count": 1,
   "metadata": {},
   "outputs": [],
   "source": [
    "import pandas as pd\n",
    "import numpy as np\n",
    "from typing import List"
   ]
  },
  {
   "cell_type": "code",
   "execution_count": 34,
   "metadata": {},
   "outputs": [],
   "source": [
    "docs = pd.read_csv(\"data/pan/document_vectors.csv\", index_col=\"documentID\")\n",
    "\n",
    "def get_author_ids(doc_df:pd.DataFrame) -> np.ndarray:\n",
    "    return doc_df.authorIDs.unique()\n",
    "\n",
    "def create_author_vector(author_id:str, doc_df:pd.DataFrame) -> pd.Series:\n",
    "    author_document_vectors = doc_df.loc[doc_df['authorIDs'] == author_id]\n",
    "    return author_document_vectors.mean(axis=0, numeric_only=True)\n",
    "\n",
    "def create_author_vector_df(doc_df:pd.DataFrame) -> pd.DataFrame:\n",
    "    \"\"\"Creates author vectors by averaging each author's documents into one\"\"\"\n",
    "    author_ids = get_author_ids(doc_df)\n",
    "    author_ids_to_avs = {}\n",
    "    for author_id in author_ids:\n",
    "        author_ids_to_avs[author_id] = create_author_vector(author_id, doc_df)    \n",
    "    av_df = pd.DataFrame(author_ids_to_avs).T\n",
    "    return av_df\n",
    "\n",
    "\n",
    "authors = create_author_vector_df(docs)\n",
    "\n",
    "\n"
   ]
  },
  {
   "cell_type": "code",
   "execution_count": 9,
   "metadata": {},
   "outputs": [],
   "source": [
    "HIGH_LEVEL_FEATURES = [\"pos_unigrams\", \"pos_bigrams\", \"letters\", \"emojis\", \"mixed_bigrams\", \"morph_tags\", \"dep_labels\",\"punctuation\", \"func_words\"]\n",
    "\n",
    "def create_feature_dfs(df:pd.DataFrame) -> List[pd.DataFrame]:\n",
    "    return [df.filter(regex=f\"{feat_name}\") for feat_name in HIGH_LEVEL_FEATURES]\n",
    "\n",
    "\n",
    "\n",
    "\n",
    "dfs = create_feature_dfs(authors)"
   ]
  },
  {
   "cell_type": "code",
   "execution_count": 23,
   "metadata": {},
   "outputs": [],
   "source": [
    "dfs[4] = dfs[4].iloc[:, 0:1000]\n",
    "\n"
   ]
  },
  {
   "cell_type": "code",
   "execution_count": 25,
   "metadata": {},
   "outputs": [
    {
     "data": {
      "text/plain": [
       "(56, 1000)"
      ]
     },
     "execution_count": 25,
     "metadata": {},
     "output_type": "execute_result"
    }
   ],
   "source": [
    "dfs[4].shape"
   ]
  },
  {
   "cell_type": "code",
   "execution_count": null,
   "metadata": {},
   "outputs": [],
   "source": []
  }
 ],
 "metadata": {
  "kernelspec": {
   "display_name": "venv",
   "language": "python",
   "name": "python3"
  },
  "language_info": {
   "codemirror_mode": {
    "name": "ipython",
    "version": 3
   },
   "file_extension": ".py",
   "mimetype": "text/x-python",
   "name": "python",
   "nbconvert_exporter": "python",
   "pygments_lexer": "ipython3",
   "version": "3.11.3"
  },
  "orig_nbformat": 4
 },
 "nbformat": 4,
 "nbformat_minor": 2
}
